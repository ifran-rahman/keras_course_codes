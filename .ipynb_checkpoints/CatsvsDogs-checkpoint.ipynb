{
 "cells": [
  {
   "cell_type": "code",
   "execution_count": 1,
   "id": "f9d9ea40",
   "metadata": {},
   "outputs": [],
   "source": [
    "import numpy as np\n",
    "import tensorflow as tf\n",
    "from tensorflow import keras\n",
    "from tensorflow.keras.models import Sequential\n",
    "from tensorflow.keras.layers import Activation, Dense, Flatten, BatchNormalization, Conv2D, MaxPool2D\n",
    "from tensorflow.keras.optimizers import Adam\n",
    "from tensorflow.keras.metrics import categorical_crossentropy\n",
    "from tensorflow.keras.preprocessing.image import ImageDataGenerator\n",
    "from sklearn.metrics import confusion_matrix\n",
    "import itertools\n",
    "import os\n",
    "import shutil\n",
    "import random\n",
    "import glob\n",
    "import matplotlib.pyplot as plt\n",
    "import warnings\n",
    "warnings.simplefilter(action='ignore', category=FutureWarning)\n",
    "%matplotlib inline"
   ]
  },
  {
   "cell_type": "code",
   "execution_count": 2,
   "id": "3d92bd2b",
   "metadata": {},
   "outputs": [],
   "source": [
    "# Organize data into train, valid, test dirs\n",
    "\n",
    "os.chdir('E:/DeepLearning/Datasets/dogs-vs-cats')\n",
    "if os.path.isdir('train/dog') is False:\n",
    "    os.makedirs('train/dog')\n",
    "    os.makedirs('train/cat')\n",
    "    os.makedirs('valid/dog')\n",
    "    os.makedirs('valid/cat')\n",
    "    os.makedirs('test/dog')\n",
    "    os.makedirs('test/cat')\n",
    "\n",
    "    for i in random.sample(glob.glob('E:/DeepLearning/Datasets/dogs-vs-cats/cat.*'), 500):\n",
    "        shutil.move(i, 'E:/DeepLearning/Datasets/dogs-vs-cats/train/cat')      \n",
    "    for i in random.sample(glob.glob('E:/DeepLearning/Datasets/dogs-vs-cats/dog*'), 500):\n",
    "        shutil.move(i, 'E:/DeepLearning/Datasets/dogs-vs-cats/train/dog')\n",
    "    for i in random.sample(glob.glob('cat*'), 100):\n",
    "        shutil.move(i, 'E:/DeepLearning/Datasets/dogs-vs-cats/valid/cat')        \n",
    "    for i in random.sample(glob.glob('dog*'), 100):\n",
    "        shutil.move(i, 'E:/DeepLearning/Datasets/dogs-vs-cats/valid/dog')\n",
    "    for i in random.sample(glob.glob('cat*'), 50):\n",
    "        shutil.move(i, 'E:/DeepLearning/Datasets/dogs-vs-cats/test/cat')      \n",
    "    for i in random.sample(glob.glob('dog*'), 50):\n",
    "        shutil.move(i, 'E:/DeepLearning/Datasets/dogs-vs-cats/test/dog')\n",
    "\n",
    "os.chdir('../../')\n"
   ]
  },
  {
   "cell_type": "code",
   "execution_count": 3,
   "id": "94d2d0e3",
   "metadata": {},
   "outputs": [],
   "source": [
    "train_path = 'E:/DeepLearning/Datasets/dogs-vs-cats/train'\n",
    "test_path = 'E:/DeepLearning/Datasets/dogs-vs-cats/test'\n",
    "valid_path = 'E:/DeepLearning/Datasets/dogs-vs-cats/valid'"
   ]
  },
  {
   "cell_type": "code",
   "execution_count": null,
   "id": "7507be45",
   "metadata": {},
   "outputs": [],
   "source": [
    "train_"
   ]
  }
 ],
 "metadata": {
  "kernelspec": {
   "display_name": "Python 3",
   "language": "python",
   "name": "python3"
  },
  "language_info": {
   "codemirror_mode": {
    "name": "ipython",
    "version": 3
   },
   "file_extension": ".py",
   "mimetype": "text/x-python",
   "name": "python",
   "nbconvert_exporter": "python",
   "pygments_lexer": "ipython3",
   "version": "3.8.8"
  }
 },
 "nbformat": 4,
 "nbformat_minor": 5
}
